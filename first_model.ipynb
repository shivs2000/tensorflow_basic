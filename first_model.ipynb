{
  "nbformat": 4,
  "nbformat_minor": 0,
  "metadata": {
    "colab": {
      "name": "first_model.ipynb",
      "provenance": [],
      "collapsed_sections": [],
      "authorship_tag": "ABX9TyPYcD55/G0Q8XLTGmjMuow8",
      "include_colab_link": true
    },
    "kernelspec": {
      "name": "python3",
      "display_name": "Python 3"
    },
    "language_info": {
      "name": "python"
    }
  },
  "cells": [
    {
      "cell_type": "markdown",
      "metadata": {
        "id": "view-in-github",
        "colab_type": "text"
      },
      "source": [
        "<a href=\"https://colab.research.google.com/github/shivs2000/tensorflow_basic/blob/main/first_model.ipynb\" target=\"_parent\"><img src=\"https://colab.research.google.com/assets/colab-badge.svg\" alt=\"Open In Colab\"/></a>"
      ]
    },
    {
      "cell_type": "code",
      "execution_count": null,
      "metadata": {
        "id": "qbsc7ysl8rSK"
      },
      "outputs": [],
      "source": [
        "import tensorflow as tf\n",
        "import numpy as np\n",
        "import logging\n",
        "logger=tf.get_logger()\n",
        "logger.setLevel(logging.ERROR)\n",
        "\n",
        "#creating lists to store celsius and fahrenheit\n",
        "celsius_q=np.array([-40, -10,  0,  8, 15, 22,  38],dtype=\"float\")\n",
        "fahrenheit_a=np.array([-40,  14, 32, 46, 59, 72, 100],dtype=\"float\")\n",
        "for i,c in enumerate(celsius_q):\n",
        "  print(\"{} degree celsius ={} in degree fahrenheit\".format(c,fahrenheit_a[i]))\n",
        "  \n"
      ]
    },
    {
      "cell_type": "markdown",
      "source": [
        "Next we will ceate a model \n"
      ],
      "metadata": {
        "id": "21NKIRc6ZciT"
      }
    },
    {
      "cell_type": "code",
      "source": [
        ""
      ],
      "metadata": {
        "id": "55GnNuQGZy7a"
      },
      "execution_count": null,
      "outputs": []
    }
  ]
}