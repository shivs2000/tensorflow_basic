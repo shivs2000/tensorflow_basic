{
  "nbformat": 4,
  "nbformat_minor": 0,
  "metadata": {
    "colab": {
      "name": "tf_overview.ipynb",
      "provenance": [],
      "authorship_tag": "ABX9TyN5MZ8AhfasXD7AWtQdphpk",
      "include_colab_link": true
    },
    "kernelspec": {
      "name": "python3",
      "display_name": "Python 3"
    },
    "language_info": {
      "name": "python"
    }
  },
  "cells": [
    {
      "cell_type": "markdown",
      "metadata": {
        "id": "view-in-github",
        "colab_type": "text"
      },
      "source": [
        "<a href=\"https://colab.research.google.com/github/shivs2000/tensorflow_basic/blob/main/tf_overview.ipynb\" target=\"_parent\"><img src=\"https://colab.research.google.com/assets/colab-badge.svg\" alt=\"Open In Colab\"/></a>"
      ]
    },
    {
      "cell_type": "code",
      "execution_count": 1,
      "metadata": {
        "colab": {
          "base_uri": "https://localhost:8080/"
        },
        "id": "EQBzLBKU0Y4S",
        "outputId": "515ac282-5408-419a-b173-2f5d5b063429"
      },
      "outputs": [
        {
          "output_type": "stream",
          "name": "stdout",
          "text": [
            "tf.Tensor(\n",
            "[[1 2 3]\n",
            " [4 5 6]], shape=(2, 3), dtype=int32)\n",
            "<dtype: 'int32'>\n",
            "(2, 3)\n",
            "tf.Tensor(\n",
            "[[ 2  4  6]\n",
            " [ 8 10 12]], shape=(2, 3), dtype=int32)\n",
            "tf.Tensor(\n",
            "[[ 5 10 15]\n",
            " [20 25 30]], shape=(2, 3), dtype=int32)\n"
          ]
        }
      ],
      "source": [
        "import tensorflow as tf\n",
        "x=tf.constant([[1,2,3] ,[4,5,6]])\n",
        "print(x)\n",
        "print(x.dtype)\n",
        "print(x.shape)\n",
        "\n",
        "#checking the normal operations on tensors\n",
        "print(x+x)\n",
        "print(5*x)\n"
      ]
    },
    {
      "cell_type": "code",
      "source": [
        "tf.transpose(x)"
      ],
      "metadata": {
        "colab": {
          "base_uri": "https://localhost:8080/"
        },
        "id": "eIzMbZn3Qra8",
        "outputId": "bf0a5a12-b753-42e2-d1ea-53138f0e4045"
      },
      "execution_count": 2,
      "outputs": [
        {
          "output_type": "execute_result",
          "data": {
            "text/plain": [
              "<tf.Tensor: shape=(3, 2), dtype=int32, numpy=\n",
              "array([[1, 4],\n",
              "       [2, 5],\n",
              "       [3, 6]], dtype=int32)>"
            ]
          },
          "metadata": {},
          "execution_count": 2
        }
      ]
    },
    {
      "cell_type": "code",
      "source": [
        "tf.concat([x,x,x],axis=0)"
      ],
      "metadata": {
        "colab": {
          "base_uri": "https://localhost:8080/"
        },
        "id": "36JNwFnwRUbV",
        "outputId": "dbdab1e2-6d31-4222-f419-4316230971d8"
      },
      "execution_count": 3,
      "outputs": [
        {
          "output_type": "execute_result",
          "data": {
            "text/plain": [
              "<tf.Tensor: shape=(6, 3), dtype=int32, numpy=\n",
              "array([[1, 2, 3],\n",
              "       [4, 5, 6],\n",
              "       [1, 2, 3],\n",
              "       [4, 5, 6],\n",
              "       [1, 2, 3],\n",
              "       [4, 5, 6]], dtype=int32)>"
            ]
          },
          "metadata": {},
          "execution_count": 3
        }
      ]
    },
    {
      "cell_type": "markdown",
      "source": [
        "TO CHECK ALL SUPPORTED DTYPE\n"
      ],
      "metadata": {
        "id": "TgAawSl3SDxm"
      }
    },
    {
      "cell_type": "code",
      "source": [
        "tf.dtypes.DType"
      ],
      "metadata": {
        "colab": {
          "base_uri": "https://localhost:8080/"
        },
        "id": "Bs7e3CnFSMPQ",
        "outputId": "761ad104-d0d0-45dd-e5db-c05471f4debd"
      },
      "execution_count": 4,
      "outputs": [
        {
          "output_type": "execute_result",
          "data": {
            "text/plain": [
              "tensorflow.python.framework.dtypes.DType"
            ]
          },
          "metadata": {},
          "execution_count": 4
        }
      ]
    },
    {
      "cell_type": "markdown",
      "source": [
        "Converting a tensor to Numpy array\n"
      ],
      "metadata": {
        "id": "q9pu8Zy-aCvf"
      }
    },
    {
      "cell_type": "code",
      "source": [
        "import numpy as np\n",
        "np.array(x)"
      ],
      "metadata": {
        "colab": {
          "base_uri": "https://localhost:8080/"
        },
        "id": "oZRcYbaEaLoU",
        "outputId": "31e0856b-6948-4015-e81b-a7d42b6a3698"
      },
      "execution_count": 5,
      "outputs": [
        {
          "output_type": "execute_result",
          "data": {
            "text/plain": [
              "array([[1, 2, 3],\n",
              "       [4, 5, 6]], dtype=int32)"
            ]
          },
          "metadata": {},
          "execution_count": 5
        }
      ]
    },
    {
      "cell_type": "code",
      "source": [
        "x.numpy()"
      ],
      "metadata": {
        "colab": {
          "base_uri": "https://localhost:8080/"
        },
        "id": "zJzzS3n1a3eX",
        "outputId": "e3911920-a367-42f7-cfff-80c75958f393"
      },
      "execution_count": 6,
      "outputs": [
        {
          "output_type": "execute_result",
          "data": {
            "text/plain": [
              "array([[1, 2, 3],\n",
              "       [4, 5, 6]], dtype=int32)"
            ]
          },
          "metadata": {},
          "execution_count": 6
        }
      ]
    }
  ]
}